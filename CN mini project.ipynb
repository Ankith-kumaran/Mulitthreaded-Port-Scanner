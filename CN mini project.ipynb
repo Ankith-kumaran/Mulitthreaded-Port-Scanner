{
 "cells": [
  {
   "cell_type": "code",
   "execution_count": 1,
   "metadata": {},
   "outputs": [],
   "source": [
    "from queue import Queue\n",
    "import socket\n",
    "import threading"
   ]
  },
  {
   "cell_type": "code",
   "execution_count": 2,
   "metadata": {},
   "outputs": [],
   "source": [
    "target = \"127.0.0.1\"\n",
    "queue = Queue()\n",
    "open_ports = []"
   ]
  },
  {
   "cell_type": "code",
   "execution_count": 3,
   "metadata": {},
   "outputs": [],
   "source": [
    "def portscan(port):\n",
    "    try:\n",
    "        sock = socket.socket(socket.AF_INET, socket.SOCK_STREAM)\n",
    "        sock.connect((target, port))\n",
    "        return True\n",
    "    except:\n",
    "        return False"
   ]
  },
  {
   "cell_type": "code",
   "execution_count": 4,
   "metadata": {},
   "outputs": [],
   "source": [
    "def get_ports(mode):\n",
    "    if mode == 1:\n",
    "        for port in range(1, 1024):\n",
    "            queue.put(port)\n",
    "    elif mode == 2:\n",
    "        for port in range(1, 49152):\n",
    "            queue.put(port)\n",
    "    elif mode == 3:\n",
    "        ports = [20, 21, 22, 23, 25, 53, 80, 110, 443]\n",
    "        for port in ports:\n",
    "            queue.put(port)\n",
    "    elif mode == 4:\n",
    "        ports = input(\"Enter your ports (seperate by blank):\")\n",
    "        ports = ports.split()\n",
    "        ports = list(map(int, ports))\n",
    "        for port in ports:\n",
    "            queue.put(port)"
   ]
  },
  {
   "cell_type": "code",
   "execution_count": 5,
   "metadata": {},
   "outputs": [],
   "source": [
    "def worker():\n",
    "    while not queue.empty():\n",
    "        port = queue.get()\n",
    "        if portscan(port):\n",
    "            print(\"Port {} is open!\".format(port))\n",
    "            open_ports.append(port)\n",
    "        "
   ]
  },
  {
   "cell_type": "code",
   "execution_count": 6,
   "metadata": {},
   "outputs": [],
   "source": [
    "def run_scanner(threads, mode):\n",
    "\n",
    "    get_ports(mode)\n",
    "\n",
    "    thread_list = []\n",
    "\n",
    "    for t in range(threads):\n",
    "        thread = threading.Thread(target=worker)\n",
    "        thread_list.append(thread)\n",
    "\n",
    "    for thread in thread_list:\n",
    "        thread.start()\n",
    "\n",
    "    for thread in thread_list:\n",
    "        thread.join()\n",
    "\n",
    "    print(\"Open ports are:\", open_ports)"
   ]
  },
  {
   "cell_type": "code",
   "execution_count": 9,
   "metadata": {},
   "outputs": [
    {
     "name": "stdout",
     "output_type": "stream",
     "text": [
      "3\n",
      "Port 443 is open!\n",
      "Open ports are: [135, 445, 443, 902, 912, 135, 443, 445, 902, 912, 2869, 5040, 5357, 5700, 6463, 6646, 8080, 8307, 8888, 8884, 9012, 27036, 27060, 443]\n"
     ]
    }
   ],
   "source": [
    "Mode = int(input())\n",
    "run_scanner(100, Mode)"
   ]
  },
  {
   "cell_type": "code",
   "execution_count": null,
   "metadata": {},
   "outputs": [],
   "source": []
  },
  {
   "cell_type": "code",
   "execution_count": null,
   "metadata": {},
   "outputs": [],
   "source": []
  }
 ],
 "metadata": {
  "kernelspec": {
   "display_name": "Python 3",
   "language": "python",
   "name": "python3"
  },
  "language_info": {
   "codemirror_mode": {
    "name": "ipython",
    "version": 3
   },
   "file_extension": ".py",
   "mimetype": "text/x-python",
   "name": "python",
   "nbconvert_exporter": "python",
   "pygments_lexer": "ipython3",
   "version": "3.8.5"
  }
 },
 "nbformat": 4,
 "nbformat_minor": 4
}
